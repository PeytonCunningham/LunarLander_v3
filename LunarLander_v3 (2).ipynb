{
 "cells": [
  {
   "cell_type": "markdown",
   "id": "95e37273-cf25-4aed-8c14-841f5bfd50ca",
   "metadata": {},
   "source": [
    "## Install required libraries using pip"
   ]
  },
  {
   "cell_type": "code",
   "execution_count": 2,
   "id": "4eb0b7e0-cc2b-4de8-bffe-34ac3ddc647c",
   "metadata": {},
   "outputs": [
    {
     "name": "stdout",
     "output_type": "stream",
     "text": [
      "Requirement already satisfied: gym in /opt/anaconda3/lib/python3.12/site-packages (0.26.2)\n",
      "Requirement already satisfied: numpy>=1.18.0 in /opt/anaconda3/lib/python3.12/site-packages (from gym) (1.26.4)\n",
      "Requirement already satisfied: cloudpickle>=1.2.0 in /opt/anaconda3/lib/python3.12/site-packages (from gym) (2.2.1)\n",
      "Requirement already satisfied: gym_notices>=0.0.4 in /opt/anaconda3/lib/python3.12/site-packages (from gym) (0.0.8)\n",
      "Requirement already satisfied: pygame in /opt/anaconda3/lib/python3.12/site-packages (2.6.1)\n",
      "Requirement already satisfied: gym[atari] in /opt/anaconda3/lib/python3.12/site-packages (0.26.2)\n",
      "Requirement already satisfied: numpy>=1.18.0 in /opt/anaconda3/lib/python3.12/site-packages (from gym[atari]) (1.26.4)\n",
      "Requirement already satisfied: cloudpickle>=1.2.0 in /opt/anaconda3/lib/python3.12/site-packages (from gym[atari]) (2.2.1)\n",
      "Requirement already satisfied: gym_notices>=0.0.4 in /opt/anaconda3/lib/python3.12/site-packages (from gym[atari]) (0.0.8)\n",
      "INFO: pip is looking at multiple versions of gym[atari] to determine which version is compatible with other requirements. This could take a while.\n",
      "Collecting gym[atari]\n",
      "  Using cached gym-0.26.1.tar.gz (719 kB)\n",
      "  Installing build dependencies ... \u001b[?25ldone\n",
      "\u001b[?25h  Getting requirements to build wheel ... \u001b[?25ldone\n",
      "\u001b[?25h  Preparing metadata (pyproject.toml) ... \u001b[?25ldone\n",
      "\u001b[?25h  Using cached gym-0.26.0.tar.gz (710 kB)\n",
      "  Installing build dependencies ... \u001b[?25ldone\n",
      "\u001b[?25h  Getting requirements to build wheel ... \u001b[?25ldone\n",
      "\u001b[?25h  Preparing metadata (pyproject.toml) ... \u001b[?25ldone\n",
      "\u001b[?25h  Using cached gym-0.25.2.tar.gz (734 kB)\n",
      "  Installing build dependencies ... \u001b[?25ldone\n",
      "\u001b[?25h  Getting requirements to build wheel ... \u001b[?25ldone\n",
      "\u001b[?25h  Preparing metadata (pyproject.toml) ... \u001b[?25ldone\n",
      "\u001b[?25h  Using cached gym-0.25.1.tar.gz (732 kB)\n",
      "  Installing build dependencies ... \u001b[?25ldone\n",
      "\u001b[?25h  Getting requirements to build wheel ... \u001b[?25ldone\n",
      "\u001b[?25h  Preparing metadata (pyproject.toml) ... \u001b[?25ldone\n",
      "\u001b[?25h  Using cached gym-0.25.0.tar.gz (720 kB)\n",
      "  Installing build dependencies ... \u001b[?25ldone\n",
      "\u001b[?25h  Getting requirements to build wheel ... \u001b[?25ldone\n",
      "\u001b[?25h  Preparing metadata (pyproject.toml) ... \u001b[?25ldone\n",
      "\u001b[?25h  Using cached gym-0.24.1.tar.gz (696 kB)\n",
      "  Installing build dependencies ... \u001b[?25ldone\n",
      "\u001b[?25h  Getting requirements to build wheel ... \u001b[?25ldone\n",
      "\u001b[?25h  Preparing metadata (pyproject.toml) ... \u001b[?25ldone\n",
      "\u001b[?25h  Using cached gym-0.24.0.tar.gz (694 kB)\n",
      "  Installing build dependencies ... \u001b[?25ldone\n",
      "\u001b[?25h  Getting requirements to build wheel ... \u001b[?25ldone\n",
      "\u001b[?25h  Preparing metadata (pyproject.toml) ... \u001b[?25ldone\n",
      "\u001b[?25hINFO: pip is still looking at multiple versions of gym[atari] to determine which version is compatible with other requirements. This could take a while.\n",
      "  Using cached gym-0.23.1.tar.gz (626 kB)\n",
      "  Installing build dependencies ... \u001b[?25ldone\n",
      "\u001b[?25h  Getting requirements to build wheel ... \u001b[?25ldone\n",
      "\u001b[?25h  Preparing metadata (pyproject.toml) ... \u001b[?25ldone\n",
      "\u001b[?25h  Using cached gym-0.23.0.tar.gz (624 kB)\n",
      "  Installing build dependencies ... \u001b[?25ldone\n",
      "\u001b[?25h  Getting requirements to build wheel ... \u001b[?25ldone\n",
      "\u001b[?25h  Preparing metadata (pyproject.toml) ... \u001b[?25ldone\n",
      "\u001b[?25h  Using cached gym-0.22.0.tar.gz (631 kB)\n",
      "  Installing build dependencies ... \u001b[?25ldone\n",
      "\u001b[?25h  Getting requirements to build wheel ... \u001b[?25ldone\n",
      "\u001b[?25h  Preparing metadata (pyproject.toml) ... \u001b[?25ldone\n",
      "\u001b[?25h  Using cached gym-0.21.0.tar.gz (1.5 MB)\n",
      "  Preparing metadata (setup.py) ... \u001b[?25lerror\n",
      "  \u001b[1;31merror\u001b[0m: \u001b[1msubprocess-exited-with-error\u001b[0m\n",
      "  \n",
      "  \u001b[31m×\u001b[0m \u001b[32mpython setup.py egg_info\u001b[0m did not run successfully.\n",
      "  \u001b[31m│\u001b[0m exit code: \u001b[1;36m1\u001b[0m\n",
      "  \u001b[31m╰─>\u001b[0m \u001b[31m[1 lines of output]\u001b[0m\n",
      "  \u001b[31m   \u001b[0m error in gym setup command: 'extras_require' must be a dictionary whose values are strings or lists of strings containing valid project/version requirement specifiers.\n",
      "  \u001b[31m   \u001b[0m \u001b[31m[end of output]\u001b[0m\n",
      "  \n",
      "  \u001b[1;35mnote\u001b[0m: This error originates from a subprocess, and is likely not a problem with pip.\n",
      "\u001b[1;31merror\u001b[0m: \u001b[1mmetadata-generation-failed\u001b[0m\n",
      "\n",
      "\u001b[31m×\u001b[0m Encountered error while generating package metadata.\n",
      "\u001b[31m╰─>\u001b[0m See above for output.\n",
      "\n",
      "\u001b[1;35mnote\u001b[0m: This is an issue with the package mentioned above, not pip.\n",
      "\u001b[1;36mhint\u001b[0m: See above for details.\n",
      "\u001b[?25hRequirement already satisfied: opencv-python in /opt/anaconda3/lib/python3.12/site-packages (4.10.0.84)\n",
      "Requirement already satisfied: numpy>=1.21.2 in /opt/anaconda3/lib/python3.12/site-packages (from opencv-python) (1.26.4)\n",
      "Requirement already satisfied: torch in /opt/anaconda3/lib/python3.12/site-packages (2.7.0)\n",
      "Requirement already satisfied: torchvision in /opt/anaconda3/lib/python3.12/site-packages (0.22.0)\n",
      "Requirement already satisfied: filelock in /opt/anaconda3/lib/python3.12/site-packages (from torch) (3.13.1)\n",
      "Requirement already satisfied: typing-extensions>=4.10.0 in /opt/anaconda3/lib/python3.12/site-packages (from torch) (4.11.0)\n",
      "Requirement already satisfied: setuptools in /opt/anaconda3/lib/python3.12/site-packages (from torch) (69.5.1)\n",
      "Requirement already satisfied: sympy>=1.13.3 in /opt/anaconda3/lib/python3.12/site-packages (from torch) (1.13.3)\n",
      "Requirement already satisfied: networkx in /opt/anaconda3/lib/python3.12/site-packages (from torch) (3.2.1)\n",
      "Requirement already satisfied: jinja2 in /opt/anaconda3/lib/python3.12/site-packages (from torch) (3.1.4)\n",
      "Requirement already satisfied: fsspec in /opt/anaconda3/lib/python3.12/site-packages (from torch) (2024.3.1)\n",
      "Requirement already satisfied: numpy in /opt/anaconda3/lib/python3.12/site-packages (from torchvision) (1.26.4)\n",
      "Requirement already satisfied: pillow!=8.3.*,>=5.3.0 in /opt/anaconda3/lib/python3.12/site-packages (from torchvision) (10.3.0)\n",
      "Requirement already satisfied: mpmath<1.4,>=1.1.0 in /opt/anaconda3/lib/python3.12/site-packages (from sympy>=1.13.3->torch) (1.3.0)\n",
      "Requirement already satisfied: MarkupSafe>=2.0 in /opt/anaconda3/lib/python3.12/site-packages (from jinja2->torch) (2.1.3)\n",
      "Requirement already satisfied: stable-baselines3[extra] in /opt/anaconda3/lib/python3.12/site-packages (2.6.0)\n",
      "Requirement already satisfied: gymnasium<1.2.0,>=0.29.1 in /opt/anaconda3/lib/python3.12/site-packages (from stable-baselines3[extra]) (1.1.1)\n",
      "Requirement already satisfied: numpy<3.0,>=1.20 in /opt/anaconda3/lib/python3.12/site-packages (from stable-baselines3[extra]) (1.26.4)\n",
      "Requirement already satisfied: torch<3.0,>=2.3 in /opt/anaconda3/lib/python3.12/site-packages (from stable-baselines3[extra]) (2.7.0)\n",
      "Requirement already satisfied: cloudpickle in /opt/anaconda3/lib/python3.12/site-packages (from stable-baselines3[extra]) (2.2.1)\n",
      "Requirement already satisfied: pandas in /opt/anaconda3/lib/python3.12/site-packages (from stable-baselines3[extra]) (2.2.2)\n",
      "Requirement already satisfied: matplotlib in /opt/anaconda3/lib/python3.12/site-packages (from stable-baselines3[extra]) (3.8.4)\n",
      "Requirement already satisfied: opencv-python in /opt/anaconda3/lib/python3.12/site-packages (from stable-baselines3[extra]) (4.10.0.84)\n",
      "Requirement already satisfied: pygame in /opt/anaconda3/lib/python3.12/site-packages (from stable-baselines3[extra]) (2.6.1)\n",
      "Requirement already satisfied: tensorboard>=2.9.1 in /opt/anaconda3/lib/python3.12/site-packages (from stable-baselines3[extra]) (2.18.0)\n",
      "Requirement already satisfied: psutil in /opt/anaconda3/lib/python3.12/site-packages (from stable-baselines3[extra]) (5.9.0)\n",
      "Requirement already satisfied: tqdm in /opt/anaconda3/lib/python3.12/site-packages (from stable-baselines3[extra]) (4.66.4)\n",
      "Requirement already satisfied: rich in /opt/anaconda3/lib/python3.12/site-packages (from stable-baselines3[extra]) (13.3.5)\n",
      "Requirement already satisfied: ale-py>=0.9.0 in /opt/anaconda3/lib/python3.12/site-packages (from stable-baselines3[extra]) (0.11.0)\n",
      "Requirement already satisfied: pillow in /opt/anaconda3/lib/python3.12/site-packages (from stable-baselines3[extra]) (10.3.0)\n",
      "Requirement already satisfied: typing-extensions>=4.3.0 in /opt/anaconda3/lib/python3.12/site-packages (from gymnasium<1.2.0,>=0.29.1->stable-baselines3[extra]) (4.11.0)\n",
      "Requirement already satisfied: farama-notifications>=0.0.1 in /opt/anaconda3/lib/python3.12/site-packages (from gymnasium<1.2.0,>=0.29.1->stable-baselines3[extra]) (0.0.4)\n",
      "Requirement already satisfied: absl-py>=0.4 in /opt/anaconda3/lib/python3.12/site-packages (from tensorboard>=2.9.1->stable-baselines3[extra]) (2.1.0)\n",
      "Requirement already satisfied: grpcio>=1.48.2 in /opt/anaconda3/lib/python3.12/site-packages (from tensorboard>=2.9.1->stable-baselines3[extra]) (1.68.1)\n",
      "Requirement already satisfied: markdown>=2.6.8 in /opt/anaconda3/lib/python3.12/site-packages (from tensorboard>=2.9.1->stable-baselines3[extra]) (3.4.1)\n",
      "Requirement already satisfied: packaging in /opt/anaconda3/lib/python3.12/site-packages (from tensorboard>=2.9.1->stable-baselines3[extra]) (23.2)\n",
      "Requirement already satisfied: protobuf!=4.24.0,>=3.19.6 in /opt/anaconda3/lib/python3.12/site-packages (from tensorboard>=2.9.1->stable-baselines3[extra]) (3.20.3)\n",
      "Requirement already satisfied: setuptools>=41.0.0 in /opt/anaconda3/lib/python3.12/site-packages (from tensorboard>=2.9.1->stable-baselines3[extra]) (69.5.1)\n",
      "Requirement already satisfied: six>1.9 in /opt/anaconda3/lib/python3.12/site-packages (from tensorboard>=2.9.1->stable-baselines3[extra]) (1.16.0)\n",
      "Requirement already satisfied: tensorboard-data-server<0.8.0,>=0.7.0 in /opt/anaconda3/lib/python3.12/site-packages (from tensorboard>=2.9.1->stable-baselines3[extra]) (0.7.2)\n",
      "Requirement already satisfied: werkzeug>=1.0.1 in /opt/anaconda3/lib/python3.12/site-packages (from tensorboard>=2.9.1->stable-baselines3[extra]) (3.0.3)\n",
      "Requirement already satisfied: filelock in /opt/anaconda3/lib/python3.12/site-packages (from torch<3.0,>=2.3->stable-baselines3[extra]) (3.13.1)\n",
      "Requirement already satisfied: sympy>=1.13.3 in /opt/anaconda3/lib/python3.12/site-packages (from torch<3.0,>=2.3->stable-baselines3[extra]) (1.13.3)\n",
      "Requirement already satisfied: networkx in /opt/anaconda3/lib/python3.12/site-packages (from torch<3.0,>=2.3->stable-baselines3[extra]) (3.2.1)\n",
      "Requirement already satisfied: jinja2 in /opt/anaconda3/lib/python3.12/site-packages (from torch<3.0,>=2.3->stable-baselines3[extra]) (3.1.4)\n",
      "Requirement already satisfied: fsspec in /opt/anaconda3/lib/python3.12/site-packages (from torch<3.0,>=2.3->stable-baselines3[extra]) (2024.3.1)\n",
      "Requirement already satisfied: contourpy>=1.0.1 in /opt/anaconda3/lib/python3.12/site-packages (from matplotlib->stable-baselines3[extra]) (1.2.0)\n",
      "Requirement already satisfied: cycler>=0.10 in /opt/anaconda3/lib/python3.12/site-packages (from matplotlib->stable-baselines3[extra]) (0.11.0)\n",
      "Requirement already satisfied: fonttools>=4.22.0 in /opt/anaconda3/lib/python3.12/site-packages (from matplotlib->stable-baselines3[extra]) (4.51.0)\n",
      "Requirement already satisfied: kiwisolver>=1.3.1 in /opt/anaconda3/lib/python3.12/site-packages (from matplotlib->stable-baselines3[extra]) (1.4.4)\n",
      "Requirement already satisfied: pyparsing>=2.3.1 in /opt/anaconda3/lib/python3.12/site-packages (from matplotlib->stable-baselines3[extra]) (3.0.9)\n",
      "Requirement already satisfied: python-dateutil>=2.7 in /opt/anaconda3/lib/python3.12/site-packages (from matplotlib->stable-baselines3[extra]) (2.9.0.post0)\n",
      "Requirement already satisfied: pytz>=2020.1 in /opt/anaconda3/lib/python3.12/site-packages (from pandas->stable-baselines3[extra]) (2024.2)\n",
      "Requirement already satisfied: tzdata>=2022.7 in /opt/anaconda3/lib/python3.12/site-packages (from pandas->stable-baselines3[extra]) (2024.1)\n",
      "Requirement already satisfied: markdown-it-py<3.0.0,>=2.2.0 in /opt/anaconda3/lib/python3.12/site-packages (from rich->stable-baselines3[extra]) (2.2.0)\n",
      "Requirement already satisfied: pygments<3.0.0,>=2.13.0 in /opt/anaconda3/lib/python3.12/site-packages (from rich->stable-baselines3[extra]) (2.15.1)\n",
      "Requirement already satisfied: mdurl~=0.1 in /opt/anaconda3/lib/python3.12/site-packages (from markdown-it-py<3.0.0,>=2.2.0->rich->stable-baselines3[extra]) (0.1.0)\n",
      "Requirement already satisfied: mpmath<1.4,>=1.1.0 in /opt/anaconda3/lib/python3.12/site-packages (from sympy>=1.13.3->torch<3.0,>=2.3->stable-baselines3[extra]) (1.3.0)\n",
      "Requirement already satisfied: MarkupSafe>=2.1.1 in /opt/anaconda3/lib/python3.12/site-packages (from werkzeug>=1.0.1->tensorboard>=2.9.1->stable-baselines3[extra]) (2.1.3)\n",
      "Requirement already satisfied: box2d-py in /opt/anaconda3/lib/python3.12/site-packages (2.3.8)\n"
     ]
    }
   ],
   "source": [
    "!pip install gym\n",
    "!pip install pygame\n",
    "!pip install \"gym[atari]\"\n",
    "!pip install opencv-python\n",
    "!pip install torch torchvision\n",
    "!pip install \"stable-baselines3[extra]\"\n",
    "!pip install box2d-py"
   ]
  },
  {
   "cell_type": "markdown",
   "id": "a05bf17e-5782-444c-abb0-54e90b6e33d7",
   "metadata": {},
   "source": [
    "## Imports"
   ]
  },
  {
   "cell_type": "code",
   "execution_count": 4,
   "id": "e06c54b5-a67e-49d4-a0ad-19f3b50c073c",
   "metadata": {},
   "outputs": [],
   "source": [
    "import os\n",
    "import random\n",
    "import numpy as np\n",
    "import torch\n",
    "import torch.nn as nn\n",
    "import torch.optim as optim\n",
    "import gymnasium as gym\n",
    "import matplotlib.pyplot as plt\n",
    "import imageio\n",
    "from PIL import Image, ImageDraw, ImageFont\n",
    "from collections import deque, namedtuple\n",
    "from tqdm import trange\n",
    "import pandas as pd"
   ]
  },
  {
   "cell_type": "markdown",
   "id": "aebfd71d-ceeb-4aa4-a960-8b98af1bd78b",
   "metadata": {},
   "source": [
    "## List Of All Possible Environments From Gym"
   ]
  },
  {
   "cell_type": "code",
   "execution_count": 6,
   "id": "9e5cf2dc-0186-44c1-9d81-44ea7f51586e",
   "metadata": {},
   "outputs": [
    {
     "name": "stdout",
     "output_type": "stream",
     "text": [
      " 1. Acrobot-v1\n",
      " 2. Ant-v2\n",
      " 3. Ant-v3\n",
      " 4. Ant-v4\n",
      " 5. Ant-v5\n",
      " 6. BipedalWalker-v3\n",
      " 7. BipedalWalkerHardcore-v3\n",
      " 8. Blackjack-v1\n",
      " 9. CarRacing-v3\n",
      "10. CartPole-v0\n",
      "11. CartPole-v1\n",
      "12. CliffWalking-v0\n",
      "13. FrozenLake-v1\n",
      "14. FrozenLake8x8-v1\n",
      "15. GymV21Environment-v0\n",
      "16. GymV26Environment-v0\n",
      "17. HalfCheetah-v2\n",
      "18. HalfCheetah-v3\n",
      "19. HalfCheetah-v4\n",
      "20. HalfCheetah-v5\n",
      "21. Hopper-v2\n",
      "22. Hopper-v3\n",
      "23. Hopper-v4\n",
      "24. Hopper-v5\n",
      "25. Humanoid-v2\n",
      "26. Humanoid-v3\n",
      "27. Humanoid-v4\n",
      "28. Humanoid-v5\n",
      "29. HumanoidStandup-v2\n",
      "30. HumanoidStandup-v4\n",
      "31. HumanoidStandup-v5\n",
      "32. InvertedDoublePendulum-v2\n",
      "33. InvertedDoublePendulum-v4\n",
      "34. InvertedDoublePendulum-v5\n",
      "35. InvertedPendulum-v2\n",
      "36. InvertedPendulum-v4\n",
      "37. InvertedPendulum-v5\n",
      "38. LunarLander-v3\n",
      "39. LunarLanderContinuous-v3\n",
      "40. MountainCar-v0\n",
      "41. MountainCarContinuous-v0\n",
      "42. Pendulum-v1\n",
      "43. Pusher-v2\n",
      "44. Pusher-v4\n",
      "45. Pusher-v5\n",
      "46. Reacher-v2\n",
      "47. Reacher-v4\n",
      "48. Reacher-v5\n",
      "49. Swimmer-v2\n",
      "50. Swimmer-v3\n"
     ]
    }
   ],
   "source": [
    "all_envs = sorted([env_id for env_id in gym.envs.registry.keys()])\n",
    "\n",
    "for i, name in enumerate(all_envs[:50]):\n",
    "    print(f\"{i+1:2d}. {name}\")"
   ]
  },
  {
   "cell_type": "code",
   "execution_count": 7,
   "id": "5d24eb8e-eee6-4c14-913e-0e490017d411",
   "metadata": {},
   "outputs": [
    {
     "name": "stdout",
     "output_type": "stream",
     "text": [
      "Initial observation shape: (8,)\n",
      "Sample observation: [ 0.00674143  1.4075109   0.68281233 -0.15154341 -0.0078048  -0.15466738\n",
      "  0.          0.        ]\n",
      "\n",
      "Observation space: Box([ -2.5        -2.5       -10.        -10.         -6.2831855 -10.\n",
      "  -0.         -0.       ], [ 2.5        2.5       10.        10.         6.2831855 10.\n",
      "  1.         1.       ], (8,), float32)\n",
      "Action space: Discrete(4)\n",
      "Action space sample: 3\n"
     ]
    }
   ],
   "source": [
    "# Create the environment\n",
    "env = gym.make(\"LunarLander-v3\")\n",
    "\n",
    "# Reset environment to get initial observation\n",
    "obs, info = env.reset()\n",
    "print(\"Initial observation shape:\", obs.shape)\n",
    "print(\"Sample observation:\", obs)\n",
    "\n",
    "# Check action and observation space\n",
    "print(\"\\nObservation space:\", env.observation_space)\n",
    "print(\"Action space:\", env.action_space)\n",
    "print(\"Action space sample:\", env.action_space.sample())"
   ]
  },
  {
   "cell_type": "code",
   "execution_count": 8,
   "id": "1d776bf2-2dde-4196-9704-f71e34fa54fe",
   "metadata": {},
   "outputs": [],
   "source": [
    "# Create monitored training environment\n",
    "#env = make_vec_env(\"LunarLander-v2\", n_envs=1)"
   ]
  },
  {
   "cell_type": "code",
   "execution_count": 9,
   "id": "70e23f36-4a44-44c4-b01f-4a5acc2dceb0",
   "metadata": {},
   "outputs": [],
   "source": [
    "import random\n",
    "import numpy as np\n",
    "import torch\n",
    "import torch.nn as nn\n",
    "import torch.optim as optim\n",
    "import gymnasium as gym\n",
    "from collections import deque, namedtuple\n",
    "from tqdm import trange\n",
    "\n",
    "# Set up device (CPU or GPU)\n",
    "#device = torch.device(\"cuda\" if torch.cuda.is_available() else \"cpu\")"
   ]
  },
  {
   "cell_type": "markdown",
   "id": "710780b6-46c1-4bac-a181-11c9929b714e",
   "metadata": {},
   "source": [
    "## DQN"
   ]
  },
  {
   "cell_type": "code",
   "execution_count": 11,
   "id": "0eda48d6-a7d5-4f39-a22f-a2f4bc815a02",
   "metadata": {},
   "outputs": [],
   "source": [
    "class DQNNetwork(nn.Module):\n",
    "    def __init__(self, input_dim, output_dim, hidden_layers=[128, 128]):\n",
    "        super(DQNNetwork, self).__init__()\n",
    "        layers = []\n",
    "\n",
    "        prev_size = input_dim\n",
    "        for h in hidden_layers:\n",
    "            layers.append(nn.Linear(prev_size, h))\n",
    "            layers.append(nn.ReLU())\n",
    "            prev_size = h\n",
    "\n",
    "        layers.append(nn.Linear(prev_size, output_dim))\n",
    "        self.model = nn.Sequential(*layers)\n",
    "\n",
    "    def forward(self, x):\n",
    "        return self.model(x)"
   ]
  },
  {
   "cell_type": "markdown",
   "id": "146a2b6b-a337-4ad3-aead-dec8c305195f",
   "metadata": {},
   "source": [
    "## Replay Buffer"
   ]
  },
  {
   "cell_type": "code",
   "execution_count": 13,
   "id": "aac6225b-ed6b-460b-b348-aa13c626d914",
   "metadata": {},
   "outputs": [],
   "source": [
    "class ReplayBuffer:\n",
    "    def __init__(self, capacity, batch_size):\n",
    "        self.memory = deque(maxlen=capacity)\n",
    "        self.batch_size = batch_size\n",
    "        self.experience = namedtuple(\"Experience\",\n",
    "                                     field_names=[\"state\", \"action\", \"reward\", \"next_state\", \"done\"])\n",
    "\n",
    "    def __len__(self):\n",
    "        return len(self.memory)\n",
    "\n",
    "    def add(self, state, action, reward, next_state, done):\n",
    "        e = self.experience(state, action, reward, next_state, done)\n",
    "        self.memory.append(e)\n",
    "\n",
    "    def sample(self):\n",
    "        batch = random.sample(self.memory, k=self.batch_size)\n",
    "        states = torch.tensor(np.vstack([e.state for e in batch]), dtype=torch.float32).to(device)\n",
    "        actions = torch.tensor(np.vstack([e.action for e in batch]), dtype=torch.int64).to(device)\n",
    "        rewards = torch.tensor(np.vstack([e.reward for e in batch]), dtype=torch.float32).to(device)\n",
    "        next_states = torch.tensor(np.vstack([e.next_state for e in batch]), dtype=torch.float32).to(device)\n",
    "        dones = torch.tensor(np.vstack([e.done for e in batch]).astype(np.uint8), dtype=torch.float32).to(device)\n",
    "\n",
    "        return states, actions, rewards, next_states, dones"
   ]
  },
  {
   "cell_type": "markdown",
   "id": "f29a67a0-af7c-4ca8-80f7-64014c27d8f5",
   "metadata": {},
   "source": [
    "## DQN Agent Class"
   ]
  },
  {
   "cell_type": "code",
   "execution_count": 15,
   "id": "2417b95d-8b31-4879-9a06-de4aab9267b9",
   "metadata": {},
   "outputs": [],
   "source": [
    "class DQNAgent:\n",
    "    def __init__(self, state_size, action_size, buffer_size = 100000, batch_size=64,\n",
    "                 gamma = 0.99, lr = 1e-3, tau = 1e-3, update_every = 4):\n",
    "\n",
    "        self.state_size = state_size\n",
    "        self.action_size = action_size\n",
    "        self.batch_size = batch_size\n",
    "        self.gamma = gamma\n",
    "        self.tau = tau\n",
    "        self.update_every = update_every\n",
    "\n",
    "        # Networks\n",
    "        self.qnetwork_local = DQNNetwork(state_size, action_size).to(device)\n",
    "        self.qnetwork_target = DQNNetwork(state_size, action_size).to(device)\n",
    "        self.optimizer = optim.Adam(self.qnetwork_local.parameters(), lr=lr)\n",
    "\n",
    "        # Replay buffer\n",
    "        self.memory = ReplayBuffer(buffer_size, batch_size)\n",
    "        self.t_step = 0\n",
    "\n",
    "    def act(self, state, eps=0.0):\n",
    "        state = torch.from_numpy(state).float().unsqueeze(0).to(device)\n",
    "        self.qnetwork_local.eval()\n",
    "        with torch.no_grad():\n",
    "            q_values = self.qnetwork_local(state)\n",
    "        self.qnetwork_local.train()\n",
    "\n",
    "        if random.random() < eps:\n",
    "            return random.choice(np.arange(self.action_size))\n",
    "        else:\n",
    "            return np.argmax(q_values.cpu().data.numpy())\n",
    "\n",
    "    def step(self, state, action, reward, next_state, done):\n",
    "        self.memory.add(state, action, reward, next_state, done)\n",
    "        self.t_step = (self.t_step + 1) % self.update_every\n",
    "\n",
    "        if self.t_step == 0 and len(self.memory) >= self.batch_size:\n",
    "            experiences = self.memory.sample()\n",
    "            self.learn(experiences)\n",
    "\n",
    "    def learn(self, experiences):\n",
    "        states, actions, rewards, next_states, dones = experiences\n",
    "\n",
    "        q_targets_next = self.qnetwork_target(next_states).detach().max(1)[0].unsqueeze(1)\n",
    "        q_targets = rewards + (self.gamma * q_targets_next * (1 - dones))\n",
    "        q_expected = self.qnetwork_local(states).gather(1, actions)\n",
    "\n",
    "        loss = nn.MSELoss()(q_expected, q_targets)\n",
    "        self.optimizer.zero_grad()\n",
    "        loss.backward()\n",
    "        self.optimizer.step()\n",
    "\n",
    "        self.soft_update()\n",
    "\n",
    "    def soft_update(self):\n",
    "        for target_param, local_param in zip(self.qnetwork_target.parameters(),\n",
    "                                              self.qnetwork_local.parameters()):\n",
    "            target_param.data.copy_(self.tau * local_param.data + (1.0 - self.tau) * target_param.data)"
   ]
  },
  {
   "cell_type": "markdown",
   "id": "9f90f90d-3094-471a-9ff4-7046ea5f93fd",
   "metadata": {},
   "source": [
    "## DQN Training Loop"
   ]
  },
  {
   "cell_type": "code",
   "execution_count": 17,
   "id": "ee52d60c-4626-42a6-9939-ac0924b6ebb6",
   "metadata": {},
   "outputs": [],
   "source": [
    "def train_dqn(env, agent, n_episodes = 1000, max_t = 1000,\n",
    "              eps_start = 1.0, eps_end = 0.01, eps_decay = 0.995,\n",
    "              target_score = 200.0, save_path = \"dqn_lander.pth\", verbose = True):\n",
    "    \n",
    "    scores = []  # All episode rewards\n",
    "    scores_window = deque(maxlen = 100)  # Sliding window for average reward\n",
    "    epsilon = eps_start  # Starting exploration rate\n",
    "\n",
    "    bar = trange(n_episodes, desc = \"Training\", ascii = True)  # Progress bar\n",
    "    for i_episode in bar:\n",
    "        state, _ = env.reset()  # Reset environment\n",
    "        total_reward = 0  # Episode reward counter\n",
    "\n",
    "        for t in range(max_t):\n",
    "            action = agent.act(state, eps = epsilon)  # Select action using ε-greedy\n",
    "            next_state, reward, done, truncated, _ = env.step(action)  # Take step\n",
    "            agent.step(state, action, reward, next_state, done)  # Store + learn\n",
    "            state = next_state  # Move to next state\n",
    "            total_reward += reward  # Update episode reward\n",
    "\n",
    "            if done or truncated:  # Stop if episode ends\n",
    "                break\n",
    "\n",
    "        scores.append(total_reward)  # Store score\n",
    "        scores_window.append(total_reward)  # Update moving average\n",
    "\n",
    "        epsilon = max(eps_end, eps_decay * epsilon)  # Decay epsilon\n",
    "        avg_score = np.mean(scores_window)  # Average of last 100 episodes\n",
    "\n",
    "        # Show info in progress bar\n",
    "        bar.set_postfix({\n",
    "            \"Epsilon\": f\"{epsilon:.3f}\",\n",
    "            \"Score\": f\"{total_reward:.1f}\",\n",
    "            \"Avg100\": f\"{avg_score:.1f}\"\n",
    "        })\n",
    "\n",
    "        # Print every 100 episodes if enabled\n",
    "        if verbose and (i_episode + 1) % 100 == 0:\n",
    "            print(f\"\\nEpisode {i_episode + 1} | Average Score (last 100): {avg_score:.2f}\")\n",
    "\n",
    "        # Stop early if average score is good\n",
    "        if avg_score >= target_score:\n",
    "            print(f\"\\nEnvironment solved in {i_episode + 1} episodes! Avg score: {avg_score:.2f}\")\n",
    "            torch.save(agent.qnetwork_local.state_dict(), save_path)  # save model\n",
    "            break\n",
    "\n",
    "    # Save model at the end\n",
    "    if avg_score < target_score:\n",
    "        print(f\"\\n Training ended after {n_episodes} episodes. Best avg score: {avg_score:.2f}\")\n",
    "        torch.save(agent.qnetwork_local.state_dict(), save_path)\n",
    "\n",
    "    return scores  # Return list of all episode rewards"
   ]
  },
  {
   "cell_type": "markdown",
   "id": "71abb825-86d0-4681-8617-035ea3811186",
   "metadata": {},
   "source": [
    "## Training Model"
   ]
  },
  {
   "cell_type": "code",
   "execution_count": 19,
   "id": "f74a5427-028f-4b3a-84ed-a7aabe1c9f23",
   "metadata": {},
   "outputs": [
    {
     "name": "stderr",
     "output_type": "stream",
     "text": [
      "Training:  11%|1| 106/1000 [00:02<00:26, 33.32it/s, Epsilon=0.588, Score=-251.6,"
     ]
    },
    {
     "name": "stdout",
     "output_type": "stream",
     "text": [
      "\n",
      "Episode 100 | Average Score (last 100): -146.92\n"
     ]
    },
    {
     "name": "stderr",
     "output_type": "stream",
     "text": [
      "Training:  20%|2| 202/1000 [00:07<00:49, 16.14it/s, Epsilon=0.361, Score=-51.2, "
     ]
    },
    {
     "name": "stdout",
     "output_type": "stream",
     "text": [
      "\n",
      "Episode 200 | Average Score (last 100): -112.98\n"
     ]
    },
    {
     "name": "stderr",
     "output_type": "stream",
     "text": [
      "Training:  30%|3| 300/1000 [00:23<02:32,  4.59it/s, Epsilon=0.222, Score=6.4, Av"
     ]
    },
    {
     "name": "stdout",
     "output_type": "stream",
     "text": [
      "\n",
      "Episode 300 | Average Score (last 100): -67.62\n"
     ]
    },
    {
     "name": "stderr",
     "output_type": "stream",
     "text": [
      "Training:  40%|4| 400/1000 [00:43<01:59,  5.01it/s, Epsilon=0.135, Score=-49.7, "
     ]
    },
    {
     "name": "stdout",
     "output_type": "stream",
     "text": [
      "\n",
      "Episode 400 | Average Score (last 100): -26.09\n"
     ]
    },
    {
     "name": "stderr",
     "output_type": "stream",
     "text": [
      "Training:  50%|5| 501/1000 [01:03<01:23,  5.97it/s, Epsilon=0.081, Score=193.1, "
     ]
    },
    {
     "name": "stdout",
     "output_type": "stream",
     "text": [
      "\n",
      "Episode 500 | Average Score (last 100): 17.11\n"
     ]
    },
    {
     "name": "stderr",
     "output_type": "stream",
     "text": [
      "Training:  60%|6| 602/1000 [01:17<00:35, 11.16it/s, Epsilon=0.049, Score=258.1, "
     ]
    },
    {
     "name": "stdout",
     "output_type": "stream",
     "text": [
      "\n",
      "Episode 600 | Average Score (last 100): 152.95\n"
     ]
    },
    {
     "name": "stderr",
     "output_type": "stream",
     "text": [
      "Training:  64%|6| 637/1000 [01:21<00:46,  7.83it/s, Epsilon=0.041, Score=280.4, "
     ]
    },
    {
     "name": "stdout",
     "output_type": "stream",
     "text": [
      "\n",
      "Environment solved in 638 episodes! Avg score: 202.23\n"
     ]
    },
    {
     "name": "stderr",
     "output_type": "stream",
     "text": [
      "\n"
     ]
    }
   ],
   "source": [
    "device = torch.device(\"cuda\" if torch.cuda.is_available() else \"cpu\")\n",
    "\n",
    "# Create the LunarLander-v3 environment\n",
    "env = gym.make(\"LunarLander-v3\")\n",
    "\n",
    "# Get the number of input features (state size)\n",
    "state_dim = env.observation_space.shape[0]\n",
    "\n",
    "# Get the number of possible actions (action size)\n",
    "action_dim = env.action_space.n\n",
    "\n",
    "# Create the DQN agent using state and action dimensions\n",
    "agent = DQNAgent(state_size = state_dim, action_size = action_dim)\n",
    "\n",
    "# Train the agent and collect episode scores\n",
    "scores = train_dqn(env, agent, n_episodes = 1000, target_score = 200)"
   ]
  },
  {
   "cell_type": "markdown",
   "id": "3857bd30-1538-4131-8ffc-8a0d90b5c60d",
   "metadata": {},
   "source": [
    "## Rewards versus Episodes"
   ]
  },
  {
   "cell_type": "code",
   "execution_count": 21,
   "id": "20b14306-6324-4a87-b88d-0f3d15629e98",
   "metadata": {},
   "outputs": [
    {
     "name": "stdout",
     "output_type": "stream",
     "text": [
      "Plot saved to: results/dqn_training_performance.png\n"
     ]
    },
    {
     "data": {
      "image/png": "[encoded data removed]",
      "text/plain": [
       "<Figure size 1000x500 with 1 Axes>"
      ]
     },
     "metadata": {},
     "output_type": "display_data"
    },
    {
     "data": {
      "text/plain": [
       "'results/dqn_training_performance.png'"
      ]
     },
     "execution_count": 21,
     "metadata": {},
     "output_type": "execute_result"
    }
   ],
   "source": [
    "def plot_and_save_scores_image(scores, folder = \"results\", filename = \"dqn_training_performance.png\"):\n",
    "    os.makedirs(folder, exist_ok = True)\n",
    "\n",
    "    image_path = os.path.join(folder, filename)\n",
    "\n",
    "    plt.figure(figsize = (10, 5))\n",
    "    plt.plot(scores, label = \"Episode Reward\")\n",
    "\n",
    "    if len(scores) >= 100:\n",
    "        avg100 = np.convolve(scores, np.ones(100) / 100, mode = 'valid')\n",
    "        plt.plot(range(100, 100 + len(avg100)), avg100, label = \"Avg (100)\")\n",
    "\n",
    "    plt.xlabel(\"Episode\")\n",
    "    plt.ylabel(\"Reward\")\n",
    "    plt.title(\"Training Performance\")\n",
    "    plt.legend()\n",
    "    plt.grid(True)\n",
    "\n",
    "    plt.savefig(image_path, bbox_inches = \"tight\")\n",
    "    print(f\"Plot saved to: {image_path}\")\n",
    "    plt.show()\n",
    "\n",
    "    return image_path\n",
    "\n",
    "plot_and_save_scores_image(scores, folder = \"results\", filename = \"dqn_training_performance.png\")"
   ]
  },
  {
   "cell_type": "markdown",
   "id": "79380af8-b36e-42fd-b38e-4b4ac49bbfa2",
   "metadata": {},
   "source": [
    "## Test Training DQN Function"
   ]
  },
  {
   "cell_type": "code",
   "execution_count": 23,
   "id": "8d9e49e6-369b-45a2-aa8d-668ce24aaaff",
   "metadata": {},
   "outputs": [],
   "source": [
    "def test_dqn(env, agent, n_episodes = 5, max_t = 500, render = True):\n",
    "    total_rewards = []\n",
    "\n",
    "    for ep in range(n_episodes):\n",
    "        state, _ = env.reset()\n",
    "        episode_reward = 0\n",
    "\n",
    "        for t in range(max_t):\n",
    "            if render:\n",
    "                env.render()\n",
    "\n",
    "            action = agent.act(state, eps = 0.0)\n",
    "            next_state, reward, done, truncated, _ = env.step(action)\n",
    "            episode_reward += reward\n",
    "            state = next_state\n",
    "\n",
    "            if done or truncated:\n",
    "                break\n",
    "\n",
    "        total_rewards.append(episode_reward)\n",
    "        print(f\"Episode {ep + 1} | Total Reward: {episode_reward:.2f}\")\n",
    "\n",
    "    env.close()\n",
    "    avg_reward = np.mean(total_rewards)\n",
    "    print(f\"\\n Average Reward over {n_episodes} episode(s): {avg_reward:.2f}\")\n",
    "    \n",
    "    return total_rewards\n",
    "\n",
    "def generate_results_table(reward_list):\n",
    "    df = pd.DataFrame({\n",
    "        \"Episode\": list(range(1, len(reward_list) + 1)),\n",
    "        \"Reward\": reward_list\n",
    "    })\n",
    "    df.loc[\"Average\"] = [\"—\", np.mean(reward_list)]\n",
    "    return df\n",
    "\n",
    "def save_results_csv(df, folder = \"results\", filename = \"dqn_test_results.csv\"):\n",
    "    os.makedirs(folder, exist_ok = True)\n",
    "    file_path = os.path.join(folder, filename)\n",
    "    df.to_csv(file_path, index = False)\n",
    "    print(f\"Results saved to: {file_path}\")"
   ]
  },
  {
   "cell_type": "code",
   "execution_count": 24,
   "id": "4232f818-0ea7-4ea1-9685-9d6644149f57",
   "metadata": {},
   "outputs": [
    {
     "name": "stderr",
     "output_type": "stream",
     "text": [
      "2025-04-28 08:42:13.115 python[69257:5029525] +[IMKClient subclass]: chose IMKClient_Modern\n",
      "2025-04-28 08:42:13.115 python[69257:5029525] +[IMKInputSession subclass]: chose IMKInputSession_Modern\n"
     ]
    },
    {
     "name": "stdout",
     "output_type": "stream",
     "text": [
      "Episode 1 | Total Reward: 60.25\n",
      "Episode 2 | Total Reward: 222.43\n",
      "Episode 3 | Total Reward: 74.35\n",
      "\n",
      " Average Reward over 3 episode(s): 119.01\n",
      "Results saved to: results/dqn_test_results.csv\n"
     ]
    },
    {
     "data": {
      "text/html": [
       "<div>\n",
       "<style scoped>\n",
       "    .dataframe tbody tr th:only-of-type {\n",
       "        vertical-align: middle;\n",
       "    }\n",
       "\n",
       "    .dataframe tbody tr th {\n",
       "        vertical-align: top;\n",
       "    }\n",
       "\n",
       "    .dataframe thead th {\n",
       "        text-align: right;\n",
       "    }\n",
       "</style>\n",
       "<table border=\"1\" class=\"dataframe\">\n",
       "  <thead>\n",
       "    <tr style=\"text-align: right;\">\n",
       "      <th></th>\n",
       "      <th>Episode</th>\n",
       "      <th>Reward</th>\n",
       "    </tr>\n",
       "  </thead>\n",
       "  <tbody>\n",
       "    <tr>\n",
       "      <th>0</th>\n",
       "      <td>1</td>\n",
       "      <td>60.249863</td>\n",
       "    </tr>\n",
       "    <tr>\n",
       "      <th>1</th>\n",
       "      <td>2</td>\n",
       "      <td>222.431689</td>\n",
       "    </tr>\n",
       "    <tr>\n",
       "      <th>2</th>\n",
       "      <td>3</td>\n",
       "      <td>74.346023</td>\n",
       "    </tr>\n",
       "    <tr>\n",
       "      <th>Average</th>\n",
       "      <td>—</td>\n",
       "      <td>119.009192</td>\n",
       "    </tr>\n",
       "  </tbody>\n",
       "</table>\n",
       "</div>"
      ],
      "text/plain": [
       "        Episode      Reward\n",
       "0             1   60.249863\n",
       "1             2  222.431689\n",
       "2             3   74.346023\n",
       "Average       —  119.009192"
      ]
     },
     "execution_count": 24,
     "metadata": {},
     "output_type": "execute_result"
    }
   ],
   "source": [
    "agent.qnetwork_local.load_state_dict(torch.load(\"dqn_lander.pth\"))\n",
    "\n",
    "env = gym.make(\"LunarLander-v3\", render_mode = \"human\")\n",
    "\n",
    "rewards = test_dqn(env, agent, n_episodes = 3)\n",
    "\n",
    "df_results = generate_results_table(rewards)\n",
    "save_results_csv(df_results, folder = \"results\", filename = \"dqn_test_results.csv\")\n",
    "\n",
    "df_results"
   ]
  },
  {
   "cell_type": "markdown",
   "id": "7a3defaa-82ec-496c-9f10-aa134820ea04",
   "metadata": {},
   "source": [
    "## GIF Recording"
   ]
  },
  {
   "cell_type": "code",
   "execution_count": null,
   "id": "126ff78a-f885-4154-a600-1a64aa76d488",
   "metadata": {},
   "outputs": [],
   "source": [
    "## def record_dqn_gif(agent, env_id = \"LunarLander-v3\", filename = \"dqn_demo.gif\", folder = \"results\", max_steps = 500):\n",
    "    os.makedirs(folder, exist_ok = True)\n",
    "    env = gym.make(env_id, render_mode = \"rgb_array\")\n",
    "\n",
    "    state, _ = env.reset()\n",
    "    frames = []\n",
    "    total_reward = 0\n",
    "\n",
    "    for _ in range(max_steps):\n",
    "        frame = env.render()\n",
    "        img = Image.fromarray(frame)\n",
    "        draw = ImageDraw.Draw(img)\n",
    "        try:\n",
    "            font = ImageFont.truetype(\"arial.ttf\", 16)\n",
    "        except:\n",
    "            font = ImageFont.load_default()\n",
    "        \n",
    "        draw.text((10, 10), f\"Score: {total_reward:.2f}\", font = font, fill = (255, 255, 255))\n",
    "        frames.append(np.array(img))\n",
    "        action = agent.act(state, eps = 0.0)\n",
    "        state, reward, done, truncated, _ = env.step(action)\n",
    "        total_reward += reward\n",
    "\n",
    "        if done or truncated:\n",
    "            break\n",
    "\n",
    "    env.close()\n",
    "\n",
    "    gif_path = os.path.join(folder, filename)\n",
    "    imageio.mimsave(gif_path, frames, fps = 30)\n",
    "    print(f\"GIF with overlay saved to: {gif_path}\")\n",
    "\n",
    "record_dqn_gif(agent, filename = \"dqn_demo.gif\", folder = \"results\")"
   ]
  },
  {
   "cell_type": "code",
   "execution_count": null,
   "id": "bf8421cc-2ff5-4427-bc72-81840c6ca7c8",
   "metadata": {},
   "outputs": [],
   "source": []
  }
 ],
 "metadata": {
  "kernelspec": {
   "display_name": "Python 3 (ipykernel)",
   "language": "python",
   "name": "python3"
  },
  "language_info": {
   "codemirror_mode": {
    "name": "ipython",
    "version": 3
   },
   "file_extension": ".py",
   "mimetype": "text/x-python",
   "name": "python",
   "nbconvert_exporter": "python",
   "pygments_lexer": "ipython3",
   "version": "3.12.4"
  }
 },
 "nbformat": 4,
 "nbformat_minor": 5
}
